{
 "cells": [
  {
   "cell_type": "code",
   "execution_count": 1,
   "metadata": {},
   "outputs": [],
   "source": [
    "import numpy as np\n"
   ]
  },
  {
   "cell_type": "code",
   "execution_count": 17,
   "metadata": {},
   "outputs": [
    {
     "name": "stdout",
     "output_type": "stream",
     "text": [
      "float16\n"
     ]
    },
    {
     "name": "stderr",
     "output_type": "stream",
     "text": [
      "/var/folders/c9/z15s99997pl5hyx3zkjdxy2h0000gn/T/ipykernel_32015/949721965.py:5: RuntimeWarning: overflow encountered in cast\n",
      "  x = np.array([0.0, 128.50, 258884444443.01], dtype=np.float16)\n"
     ]
    }
   ],
   "source": [
    "import numpy as np\n",
    "\n",
    "def print_dtype():\n",
    "    \"\"\"\n",
    "    Prints the data type of the numpy array.\n",
    "    \n",
    "    The data type 'float16' in numpy represents a floating-point number with 16 bits of precision. \n",
    "    It uses 1 bit for the sign, 5 bits for the exponent, and 10 bits for the mantissa. \n",
    "    This data type is useful when memory usage is a concern and high precision is not required.\n",
    "    \"\"\"\n",
    "    pass\n",
    "\n",
    "print_dtype()\n"
   ]
  },
  {
   "cell_type": "code",
   "execution_count": 18,
   "metadata": {},
   "outputs": [
    {
     "name": "stderr",
     "output_type": "stream",
     "text": [
      "100%|██████████"
     ]
    },
    {
     "name": "stdout",
     "output_type": "stream",
     "text": [
      "Progress: 10%\n",
      "Progress: 20%\n",
      "Progress: 30%\n",
      "Progress: 40%\n",
      "Progress: 50%\n",
      "Progress: 60%\n",
      "Progress: 70%\n",
      "Progress: 80%\n",
      "Progress: 90%\n",
      "Progress: 100%\n"
     ]
    },
    {
     "name": "stderr",
     "output_type": "stream",
     "text": [
      "\n"
     ]
    }
   ],
   "source": [
    "from tqdm import tqdm\n",
    "\n",
    "def update_progress(progress):\n",
    "    \"\"\"\n",
    "    Custom function to update the progress bar.\n",
    "    \"\"\"\n",
    "    tqdm.write(f\"Progress: {progress}%\")\n",
    "\n",
    "# Example usage\n",
    "for i in tqdm(range(10), bar_format=\"{l_bar}{bar}\"):\n",
    "    update_progress((i + 1) * 10)\n"
   ]
  }
 ],
 "metadata": {
  "kernelspec": {
   "display_name": "Python 3",
   "language": "python",
   "name": "python3"
  },
  "language_info": {
   "codemirror_mode": {
    "name": "ipython",
    "version": 3
   },
   "file_extension": ".py",
   "mimetype": "text/x-python",
   "name": "python",
   "nbconvert_exporter": "python",
   "pygments_lexer": "ipython3",
   "version": "3.12.2"
  }
 },
 "nbformat": 4,
 "nbformat_minor": 2
}
