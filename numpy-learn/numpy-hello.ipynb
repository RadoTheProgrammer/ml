{
 "cells": [
  {
   "cell_type": "code",
   "execution_count": 2,
   "metadata": {},
   "outputs": [
    {
     "name": "stdout",
     "output_type": "stream",
     "text": [
      "Requirement already satisfied: numpy in /Library/Frameworks/Python.framework/Versions/3.12/lib/python3.12/site-packages (1.26.4)\n",
      "Note: you may need to restart the kernel to use updated packages.\n"
     ]
    }
   ],
   "source": [
    "%pip install -U numpy"
   ]
  },
  {
   "cell_type": "code",
   "execution_count": 4,
   "metadata": {},
   "outputs": [
    {
     "name": "stdout",
     "output_type": "stream",
     "text": [
      "[1 2 3 4]\n"
     ]
    }
   ],
   "source": [
    "import numpy as np\n",
    "\n",
    "vecteur = np.array([1,2,3,4])\n",
    "print(vecteur)"
   ]
  },
  {
   "cell_type": "code",
   "execution_count": 6,
   "metadata": {},
   "outputs": [
    {
     "name": "stdout",
     "output_type": "stream",
     "text": [
      "[[1 2 3 4]\n",
      " [5 6 7 8]]\n"
     ]
    }
   ],
   "source": [
    "vecteur_2d = np.array([[1,2,3,4],[5,6,7,8]])\n",
    "print(vecteur_2d)"
   ]
  },
  {
   "cell_type": "code",
   "execution_count": 8,
   "metadata": {},
   "outputs": [
    {
     "name": "stdout",
     "output_type": "stream",
     "text": [
      "[[[1 1 1]\n",
      "  [1 1 1]]\n",
      "\n",
      " [[2 2 2]\n",
      "  [2 2 2]]]\n"
     ]
    }
   ],
   "source": [
    "vecteur_3d = np.array(\n",
    "    [\n",
    "        [\n",
    "            [1,1,1],\n",
    "            [1,1,1]\n",
    "        ],\n",
    "        [\n",
    "            [2,2,2],\n",
    "            [2,2,2]]])\n",
    "print(vecteur_3d)"
   ]
  },
  {
   "cell_type": "code",
   "execution_count": 10,
   "metadata": {},
   "outputs": [
    {
     "name": "stdout",
     "output_type": "stream",
     "text": [
      "vecteur : [1 2 3 4]\n",
      "nombre de dimensions = 1\n",
      "les dimensions sont: (4,)\n"
     ]
    }
   ],
   "source": [
    "vecteur = np.array([1,2,3,4])\n",
    "print(f\"vecteur : {vecteur}\")\n",
    "print(f\"nombre de dimensions = {vecteur.ndim}\")\n",
    "print(f\"les dimensions sont: {vecteur.shape}\")"
   ]
  },
  {
   "cell_type": "code",
   "execution_count": 13,
   "metadata": {},
   "outputs": [
    {
     "name": "stdout",
     "output_type": "stream",
     "text": [
      "vecteur : \n",
      "[[[1 1 1 1]\n",
      "  [1 1 1 1]\n",
      "  [1 1 1 1]]\n",
      "\n",
      " [[2 2 2 2]\n",
      "  [2 2 2 2]\n",
      "  [2 2 2 2]]]\n",
      "nombre de dimensions = 3\n",
      "les dimensions sont: (2, 3, 4)\n"
     ]
    }
   ],
   "source": [
    "vecteur_3d = np.array([[[1,1,1,1], [1,1,1,1], [1,1,1,1]],\n",
    "                       [[2,2,2,2], [2,2,2,2], [2,2,2,2]]])\n",
    "print(f\"vecteur : \\n{vecteur_3d}\")\n",
    "print(f\"nombre de dimensions = {vecteur_3d.ndim}\")\n",
    "print(f\"les dimensions sont: {vecteur_3d.shape}\")"
   ]
  }
 ],
 "metadata": {
  "kernelspec": {
   "display_name": "Python 3",
   "language": "python",
   "name": "python3"
  },
  "language_info": {
   "codemirror_mode": {
    "name": "ipython",
    "version": 3
   },
   "file_extension": ".py",
   "mimetype": "text/x-python",
   "name": "python",
   "nbconvert_exporter": "python",
   "pygments_lexer": "ipython3",
   "version": "3.12.2"
  }
 },
 "nbformat": 4,
 "nbformat_minor": 2
}
