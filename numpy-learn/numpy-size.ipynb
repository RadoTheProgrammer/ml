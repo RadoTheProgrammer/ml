{
 "cells": [
  {
   "cell_type": "code",
   "execution_count": 1,
   "metadata": {},
   "outputs": [],
   "source": [
    "import numpy as np\n",
    "vecteur1 = np.array([[1,2,3,4], [5,6,7,8]], dtype=\"int16\")\n",
    "vecteur2 = np.array([[1,2,3,4], [5,6,7,8]], dtype=\"int32\")\n",
    "vecteur3 = np.array([[1,2,3,4], [5,6,7,8]], dtype=\"float\")"
   ]
  },
  {
   "cell_type": "code",
   "execution_count": 2,
   "metadata": {},
   "outputs": [
    {
     "name": "stdout",
     "output_type": "stream",
     "text": [
      "Nombre d'éléments dans vecteur1 = 8\n",
      "Nombre d'éléments dans vecteur2 = 8\n",
      "Nombre d'éléments dans vecteur3 = 8\n"
     ]
    }
   ],
   "source": [
    "print(f\"Nombre d'éléments dans vecteur1 = {vecteur1.size}\")\n",
    "print(f\"Nombre d'éléments dans vecteur2 = {vecteur2.size}\")\n",
    "print(f\"Nombre d'éléments dans vecteur3 = {vecteur3.size}\")"
   ]
  },
  {
   "cell_type": "code",
   "execution_count": 3,
   "metadata": {},
   "outputs": [
    {
     "name": "stdout",
     "output_type": "stream",
     "text": [
      "type des éléments du vecteur1 = int16\n",
      "type des éléments du vecteur2 = int32\n",
      "type des éléments du vecteur3 = float64\n"
     ]
    }
   ],
   "source": [
    "print(f\"type des éléments du vecteur1 = {vecteur1.dtype}\")\n",
    "print(f\"type des éléments du vecteur2 = {vecteur2.dtype}\")\n",
    "print(f\"type des éléments du vecteur3 = {vecteur3.dtype}\")"
   ]
  },
  {
   "cell_type": "code",
   "execution_count": 4,
   "metadata": {},
   "outputs": [
    {
     "name": "stdout",
     "output_type": "stream",
     "text": [
      "Taille de chaque élément de vecteur1 = 2\n",
      "Taille de chaque élément de vecteur2 = 4\n",
      "Taille de chaque élément de vecteur3 = 8\n"
     ]
    }
   ],
   "source": [
    "print(f\"Taille de chaque élément de vecteur1 = {vecteur1.itemsize}\")\n",
    "print(f\"Taille de chaque élément de vecteur2 = {vecteur2.itemsize}\")\n",
    "print(f\"Taille de chaque élément de vecteur3 = {vecteur3.itemsize}\")"
   ]
  },
  {
   "cell_type": "code",
   "execution_count": 5,
   "metadata": {},
   "outputs": [
    {
     "name": "stdout",
     "output_type": "stream",
     "text": [
      "Taille totale de vecteur1 = 16\n",
      "Taille totale de vecteur2 = 32\n",
      "Taille totale de vecteur3 = 64\n"
     ]
    }
   ],
   "source": [
    "print(f\"Taille totale de vecteur1 = {vecteur1.nbytes}\")\n",
    "print(f\"Taille totale de vecteur2 = {vecteur2.nbytes}\")\n",
    "print(f\"Taille totale de vecteur3 = {vecteur3.nbytes}\")"
   ]
  }
 ],
 "metadata": {
  "kernelspec": {
   "display_name": "Python 3",
   "language": "python",
   "name": "python3"
  },
  "language_info": {
   "codemirror_mode": {
    "name": "ipython",
    "version": 3
   },
   "file_extension": ".py",
   "mimetype": "text/x-python",
   "name": "python",
   "nbconvert_exporter": "python",
   "pygments_lexer": "ipython3",
   "version": "3.12.2"
  }
 },
 "nbformat": 4,
 "nbformat_minor": 2
}
